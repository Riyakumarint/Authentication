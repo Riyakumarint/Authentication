{
  "nbformat": 4,
  "nbformat_minor": 0,
  "metadata": {
    "colab": {
      "provenance": [],
      "authorship_tag": "ABX9TyOe7bPFlcEF3ipOWjKL/EP6",
      "include_colab_link": true
    },
    "kernelspec": {
      "name": "python3",
      "display_name": "Python 3"
    },
    "language_info": {
      "name": "python"
    }
  },
  "cells": [
    {
      "cell_type": "markdown",
      "metadata": {
        "id": "view-in-github",
        "colab_type": "text"
      },
      "source": [
        "<a href=\"https://colab.research.google.com/github/Riyakumarint/Authentication/blob/main/MAJOR_PROJECT%20%3A%20Automatic_fault_detection_using_neural_network_in_PV_system.ipynb\" target=\"_parent\"><img src=\"https://colab.research.google.com/assets/colab-badge.svg\" alt=\"Open In Colab\"/></a>"
      ]
    },
    {
      "cell_type": "code",
      "execution_count": 102,
      "metadata": {
        "id": "48z4K_XWdfwm"
      },
      "outputs": [],
      "source": [
        "import pandas as pd\n",
        "import numpy as np\n",
        "import matplotlib.pyplot as plt\n",
        "from sklearn.model_selection import train_test_split\n",
        "from sklearn.preprocessing import StandardScaler\n",
        "from sklearn.metrics import confusion_matrix, accuracy_score\n",
        "from sklearn.preprocessing import LabelEncoder\n",
        "from sklearn.compose import ColumnTransformer\n",
        "from sklearn.preprocessing import OneHotEncoder\n",
        "from keras.utils import np_utils\n",
        "from sklearn.datasets import load_iris\n",
        "from sklearn import tree\n",
        "from tensorflow.keras.layers import Dense\n",
        "from tensorflow.keras.models import Sequential"
      ]
    },
    {
      "cell_type": "code",
      "source": [
        "classData = pd.read_csv('Self_Fault Created Data In Matlab.csv')"
      ],
      "metadata": {
        "id": "UyjUa_9reaYX"
      },
      "execution_count": 103,
      "outputs": []
    },
    {
      "cell_type": "code",
      "source": [
        "classData.shape"
      ],
      "metadata": {
        "colab": {
          "base_uri": "https://localhost:8080/"
        },
        "id": "4mID128legE1",
        "outputId": "caf85d5a-ad81-4b2e-f0a3-50fd5fa8c993"
      },
      "execution_count": 104,
      "outputs": [
        {
          "output_type": "execute_result",
          "data": {
            "text/plain": [
              "(25, 7)"
            ]
          },
          "metadata": {},
          "execution_count": 104
        }
      ]
    },
    {
      "cell_type": "code",
      "source": [
        "classData.head()"
      ],
      "metadata": {
        "colab": {
          "base_uri": "https://localhost:8080/",
          "height": 206
        },
        "id": "lPh6zyyIeh82",
        "outputId": "5e228162-30b5-4970-e8ae-3cb227e3af0a"
      },
      "execution_count": 106,
      "outputs": [
        {
          "output_type": "execute_result",
          "data": {
            "text/plain": [
              "    irr  pvt      i1      v1      i2      v2  f\n",
              "0  1000   25  7.7025  77.833  7.7025  77.833  0\n",
              "1  1000   25  3.8057  92.142  3.8057  92.142  0\n",
              "2  1000   25  2.6002  94.412  2.6002  94.412  0\n",
              "3  1000   25  6.1210  88.513  6.1210  88.513  0\n",
              "4  1000   25  1.8986  95.636  1.8986  95.636  0"
            ],
            "text/html": [
              "\n",
              "  <div id=\"df-98ed26dc-4a36-43b3-8e67-5371d37fc232\">\n",
              "    <div class=\"colab-df-container\">\n",
              "      <div>\n",
              "<style scoped>\n",
              "    .dataframe tbody tr th:only-of-type {\n",
              "        vertical-align: middle;\n",
              "    }\n",
              "\n",
              "    .dataframe tbody tr th {\n",
              "        vertical-align: top;\n",
              "    }\n",
              "\n",
              "    .dataframe thead th {\n",
              "        text-align: right;\n",
              "    }\n",
              "</style>\n",
              "<table border=\"1\" class=\"dataframe\">\n",
              "  <thead>\n",
              "    <tr style=\"text-align: right;\">\n",
              "      <th></th>\n",
              "      <th>irr</th>\n",
              "      <th>pvt</th>\n",
              "      <th>i1</th>\n",
              "      <th>v1</th>\n",
              "      <th>i2</th>\n",
              "      <th>v2</th>\n",
              "      <th>f</th>\n",
              "    </tr>\n",
              "  </thead>\n",
              "  <tbody>\n",
              "    <tr>\n",
              "      <th>0</th>\n",
              "      <td>1000</td>\n",
              "      <td>25</td>\n",
              "      <td>7.7025</td>\n",
              "      <td>77.833</td>\n",
              "      <td>7.7025</td>\n",
              "      <td>77.833</td>\n",
              "      <td>0</td>\n",
              "    </tr>\n",
              "    <tr>\n",
              "      <th>1</th>\n",
              "      <td>1000</td>\n",
              "      <td>25</td>\n",
              "      <td>3.8057</td>\n",
              "      <td>92.142</td>\n",
              "      <td>3.8057</td>\n",
              "      <td>92.142</td>\n",
              "      <td>0</td>\n",
              "    </tr>\n",
              "    <tr>\n",
              "      <th>2</th>\n",
              "      <td>1000</td>\n",
              "      <td>25</td>\n",
              "      <td>2.6002</td>\n",
              "      <td>94.412</td>\n",
              "      <td>2.6002</td>\n",
              "      <td>94.412</td>\n",
              "      <td>0</td>\n",
              "    </tr>\n",
              "    <tr>\n",
              "      <th>3</th>\n",
              "      <td>1000</td>\n",
              "      <td>25</td>\n",
              "      <td>6.1210</td>\n",
              "      <td>88.513</td>\n",
              "      <td>6.1210</td>\n",
              "      <td>88.513</td>\n",
              "      <td>0</td>\n",
              "    </tr>\n",
              "    <tr>\n",
              "      <th>4</th>\n",
              "      <td>1000</td>\n",
              "      <td>25</td>\n",
              "      <td>1.8986</td>\n",
              "      <td>95.636</td>\n",
              "      <td>1.8986</td>\n",
              "      <td>95.636</td>\n",
              "      <td>0</td>\n",
              "    </tr>\n",
              "  </tbody>\n",
              "</table>\n",
              "</div>\n",
              "      <button class=\"colab-df-convert\" onclick=\"convertToInteractive('df-98ed26dc-4a36-43b3-8e67-5371d37fc232')\"\n",
              "              title=\"Convert this dataframe to an interactive table.\"\n",
              "              style=\"display:none;\">\n",
              "        \n",
              "  <svg xmlns=\"http://www.w3.org/2000/svg\" height=\"24px\"viewBox=\"0 0 24 24\"\n",
              "       width=\"24px\">\n",
              "    <path d=\"M0 0h24v24H0V0z\" fill=\"none\"/>\n",
              "    <path d=\"M18.56 5.44l.94 2.06.94-2.06 2.06-.94-2.06-.94-.94-2.06-.94 2.06-2.06.94zm-11 1L8.5 8.5l.94-2.06 2.06-.94-2.06-.94L8.5 2.5l-.94 2.06-2.06.94zm10 10l.94 2.06.94-2.06 2.06-.94-2.06-.94-.94-2.06-.94 2.06-2.06.94z\"/><path d=\"M17.41 7.96l-1.37-1.37c-.4-.4-.92-.59-1.43-.59-.52 0-1.04.2-1.43.59L10.3 9.45l-7.72 7.72c-.78.78-.78 2.05 0 2.83L4 21.41c.39.39.9.59 1.41.59.51 0 1.02-.2 1.41-.59l7.78-7.78 2.81-2.81c.8-.78.8-2.07 0-2.86zM5.41 20L4 18.59l7.72-7.72 1.47 1.35L5.41 20z\"/>\n",
              "  </svg>\n",
              "      </button>\n",
              "      \n",
              "  <style>\n",
              "    .colab-df-container {\n",
              "      display:flex;\n",
              "      flex-wrap:wrap;\n",
              "      gap: 12px;\n",
              "    }\n",
              "\n",
              "    .colab-df-convert {\n",
              "      background-color: #E8F0FE;\n",
              "      border: none;\n",
              "      border-radius: 50%;\n",
              "      cursor: pointer;\n",
              "      display: none;\n",
              "      fill: #1967D2;\n",
              "      height: 32px;\n",
              "      padding: 0 0 0 0;\n",
              "      width: 32px;\n",
              "    }\n",
              "\n",
              "    .colab-df-convert:hover {\n",
              "      background-color: #E2EBFA;\n",
              "      box-shadow: 0px 1px 2px rgba(60, 64, 67, 0.3), 0px 1px 3px 1px rgba(60, 64, 67, 0.15);\n",
              "      fill: #174EA6;\n",
              "    }\n",
              "\n",
              "    [theme=dark] .colab-df-convert {\n",
              "      background-color: #3B4455;\n",
              "      fill: #D2E3FC;\n",
              "    }\n",
              "\n",
              "    [theme=dark] .colab-df-convert:hover {\n",
              "      background-color: #434B5C;\n",
              "      box-shadow: 0px 1px 3px 1px rgba(0, 0, 0, 0.15);\n",
              "      filter: drop-shadow(0px 1px 2px rgba(0, 0, 0, 0.3));\n",
              "      fill: #FFFFFF;\n",
              "    }\n",
              "  </style>\n",
              "\n",
              "      <script>\n",
              "        const buttonEl =\n",
              "          document.querySelector('#df-98ed26dc-4a36-43b3-8e67-5371d37fc232 button.colab-df-convert');\n",
              "        buttonEl.style.display =\n",
              "          google.colab.kernel.accessAllowed ? 'block' : 'none';\n",
              "\n",
              "        async function convertToInteractive(key) {\n",
              "          const element = document.querySelector('#df-98ed26dc-4a36-43b3-8e67-5371d37fc232');\n",
              "          const dataTable =\n",
              "            await google.colab.kernel.invokeFunction('convertToInteractive',\n",
              "                                                     [key], {});\n",
              "          if (!dataTable) return;\n",
              "\n",
              "          const docLinkHtml = 'Like what you see? Visit the ' +\n",
              "            '<a target=\"_blank\" href=https://colab.research.google.com/notebooks/data_table.ipynb>data table notebook</a>'\n",
              "            + ' to learn more about interactive tables.';\n",
              "          element.innerHTML = '';\n",
              "          dataTable['output_type'] = 'display_data';\n",
              "          await google.colab.output.renderOutput(dataTable, element);\n",
              "          const docLink = document.createElement('div');\n",
              "          docLink.innerHTML = docLinkHtml;\n",
              "          element.appendChild(docLink);\n",
              "        }\n",
              "      </script>\n",
              "    </div>\n",
              "  </div>\n",
              "  "
            ]
          },
          "metadata": {},
          "execution_count": 106
        }
      ]
    },
    {
      "cell_type": "code",
      "source": [
        "Xclass = classData.iloc[:, 0:6].values\n",
        "yclass = classData.iloc[:, 6:].values"
      ],
      "metadata": {
        "id": "C3XfDT7RekIH"
      },
      "execution_count": 107,
      "outputs": []
    },
    {
      "cell_type": "code",
      "source": [
        "print(Xclass[0,:])"
      ],
      "metadata": {
        "colab": {
          "base_uri": "https://localhost:8080/"
        },
        "id": "5ket0oXgem4w",
        "outputId": "71f316c1-5004-467d-a357-8891e4ac38b8"
      },
      "execution_count": 108,
      "outputs": [
        {
          "output_type": "stream",
          "name": "stdout",
          "text": [
            "[1000.       25.        7.7025   77.833     7.7025   77.833 ]\n"
          ]
        }
      ]
    },
    {
      "cell_type": "code",
      "source": [
        "print(yclass[0,:])"
      ],
      "metadata": {
        "colab": {
          "base_uri": "https://localhost:8080/"
        },
        "id": "b8O6NOlceop0",
        "outputId": "3063df60-27ca-4f52-bcc8-80625c9a1474"
      },
      "execution_count": 109,
      "outputs": [
        {
          "output_type": "stream",
          "name": "stdout",
          "text": [
            "[0]\n"
          ]
        }
      ]
    },
    {
      "cell_type": "code",
      "source": [
        "faults = [\"None\", \"Short Circuit Fault\", \"Degradation\", \"Open Circuit Fault\", \"Partial Shadow\"]\n",
        "yc = []\n",
        "for f in yclass:\n",
        "  if f[0] == 0:\n",
        "    yc.append([1., 0., 0., 0., 0.])\n",
        "  elif f[0] == 1 :\n",
        "    yc.append([0., 1., 0., 0., 0.])\n",
        "  elif f[0] == 2 :\n",
        "    yc.append([0., 0., 1., 0., 0.])\n",
        "  elif f[0] == 3 :\n",
        "    yc.append([0., 0., 0., 1., 0.])\n",
        "  elif f[0] == 4 :\n",
        "    yc.append([0., 0., 0., 0., 1.])\n",
        "\n",
        "yc = np.array(yc)\n",
        "yclass = yc"
      ],
      "metadata": {
        "id": "DgHsWZd7ern7"
      },
      "execution_count": 110,
      "outputs": []
    },
    {
      "cell_type": "code",
      "source": [
        "Xc_train, Xc_test, yc_train, yc_test = train_test_split(Xclass, yclass, test_size = 0.2, random_state = 0)"
      ],
      "metadata": {
        "id": "G4RoredRexNh"
      },
      "execution_count": 111,
      "outputs": []
    },
    {
      "cell_type": "code",
      "source": [
        "sc = StandardScaler()\n",
        "Xc_train = sc.fit_transform(Xc_train)\n",
        "# print(Xc_train)\n",
        "Xc_test = sc.transform(Xc_test)\n",
        "# print(Xc_test)"
      ],
      "metadata": {
        "id": "1UotH5zgezlz"
      },
      "execution_count": 112,
      "outputs": []
    },
    {
      "cell_type": "markdown",
      "source": [
        "### ANN Model"
      ],
      "metadata": {
        "id": "DvX6bgVce2fn"
      }
    },
    {
      "cell_type": "code",
      "source": [
        "# Build neural network\n",
        "classANN = Sequential()\n",
        "classANN.add(Dense(units=12, activation='relu'))\n",
        "classANN.add(Dense(units=12, activation='relu'))\n",
        "classANN.add(Dense(units=5, activation='sigmoid'))\n",
        "\n",
        "# Compile model\n",
        "classANN.compile(optimizer = 'adam', loss = 'categorical_crossentropy', metrics = ['accuracy'])"
      ],
      "metadata": {
        "id": "5jcTzFUEe4eO"
      },
      "execution_count": 117,
      "outputs": []
    },
    {
      "cell_type": "code",
      "source": [
        "# Train model\n",
        "classANN.fit(Xc_train, yc_train, batch_size = 32, epochs = 100)"
      ],
      "metadata": {
        "colab": {
          "base_uri": "https://localhost:8080/"
        },
        "id": "ZlssqJHVe696",
        "outputId": "86d57dac-ff6c-492b-d3ba-8bb31223bf03"
      },
      "execution_count": 121,
      "outputs": [
        {
          "output_type": "stream",
          "name": "stdout",
          "text": [
            "Epoch 1/100\n",
            "1/1 [==============================] - 0s 13ms/step - loss: 1.1402 - accuracy: 0.6500\n",
            "Epoch 2/100\n",
            "1/1 [==============================] - 0s 6ms/step - loss: 1.1360 - accuracy: 0.6500\n",
            "Epoch 3/100\n",
            "1/1 [==============================] - 0s 12ms/step - loss: 1.1319 - accuracy: 0.6500\n",
            "Epoch 4/100\n",
            "1/1 [==============================] - 0s 11ms/step - loss: 1.1278 - accuracy: 0.6500\n",
            "Epoch 5/100\n",
            "1/1 [==============================] - 0s 14ms/step - loss: 1.1237 - accuracy: 0.6500\n",
            "Epoch 6/100\n",
            "1/1 [==============================] - 0s 9ms/step - loss: 1.1197 - accuracy: 0.6500\n",
            "Epoch 7/100\n",
            "1/1 [==============================] - 0s 5ms/step - loss: 1.1157 - accuracy: 0.6500\n",
            "Epoch 8/100\n",
            "1/1 [==============================] - 0s 7ms/step - loss: 1.1117 - accuracy: 0.6500\n",
            "Epoch 9/100\n",
            "1/1 [==============================] - 0s 5ms/step - loss: 1.1078 - accuracy: 0.6500\n",
            "Epoch 10/100\n",
            "1/1 [==============================] - 0s 8ms/step - loss: 1.1039 - accuracy: 0.6500\n",
            "Epoch 11/100\n",
            "1/1 [==============================] - 0s 7ms/step - loss: 1.1000 - accuracy: 0.6500\n",
            "Epoch 12/100\n",
            "1/1 [==============================] - 0s 7ms/step - loss: 1.0961 - accuracy: 0.6500\n",
            "Epoch 13/100\n",
            "1/1 [==============================] - 0s 6ms/step - loss: 1.0923 - accuracy: 0.6500\n",
            "Epoch 14/100\n",
            "1/1 [==============================] - 0s 6ms/step - loss: 1.0886 - accuracy: 0.6500\n",
            "Epoch 15/100\n",
            "1/1 [==============================] - 0s 7ms/step - loss: 1.0848 - accuracy: 0.6500\n",
            "Epoch 16/100\n",
            "1/1 [==============================] - 0s 7ms/step - loss: 1.0811 - accuracy: 0.6500\n",
            "Epoch 17/100\n",
            "1/1 [==============================] - 0s 7ms/step - loss: 1.0773 - accuracy: 0.6500\n",
            "Epoch 18/100\n",
            "1/1 [==============================] - 0s 7ms/step - loss: 1.0737 - accuracy: 0.6500\n",
            "Epoch 19/100\n",
            "1/1 [==============================] - 0s 7ms/step - loss: 1.0701 - accuracy: 0.6500\n",
            "Epoch 20/100\n",
            "1/1 [==============================] - 0s 10ms/step - loss: 1.0665 - accuracy: 0.6500\n",
            "Epoch 21/100\n",
            "1/1 [==============================] - 0s 7ms/step - loss: 1.0629 - accuracy: 0.6500\n",
            "Epoch 22/100\n",
            "1/1 [==============================] - 0s 7ms/step - loss: 1.0594 - accuracy: 0.6500\n",
            "Epoch 23/100\n",
            "1/1 [==============================] - 0s 7ms/step - loss: 1.0558 - accuracy: 0.6500\n",
            "Epoch 24/100\n",
            "1/1 [==============================] - 0s 7ms/step - loss: 1.0523 - accuracy: 0.6500\n",
            "Epoch 25/100\n",
            "1/1 [==============================] - 0s 7ms/step - loss: 1.0488 - accuracy: 0.6500\n",
            "Epoch 26/100\n",
            "1/1 [==============================] - 0s 7ms/step - loss: 1.0454 - accuracy: 0.6500\n",
            "Epoch 27/100\n",
            "1/1 [==============================] - 0s 7ms/step - loss: 1.0420 - accuracy: 0.6500\n",
            "Epoch 28/100\n",
            "1/1 [==============================] - 0s 7ms/step - loss: 1.0386 - accuracy: 0.6500\n",
            "Epoch 29/100\n",
            "1/1 [==============================] - 0s 7ms/step - loss: 1.0352 - accuracy: 0.6500\n",
            "Epoch 30/100\n",
            "1/1 [==============================] - 0s 6ms/step - loss: 1.0319 - accuracy: 0.6500\n",
            "Epoch 31/100\n",
            "1/1 [==============================] - 0s 7ms/step - loss: 1.0285 - accuracy: 0.6500\n",
            "Epoch 32/100\n",
            "1/1 [==============================] - 0s 6ms/step - loss: 1.0252 - accuracy: 0.6500\n",
            "Epoch 33/100\n",
            "1/1 [==============================] - 0s 7ms/step - loss: 1.0220 - accuracy: 0.6500\n",
            "Epoch 34/100\n",
            "1/1 [==============================] - 0s 7ms/step - loss: 1.0187 - accuracy: 0.6500\n",
            "Epoch 35/100\n",
            "1/1 [==============================] - 0s 8ms/step - loss: 1.0154 - accuracy: 0.6500\n",
            "Epoch 36/100\n",
            "1/1 [==============================] - 0s 7ms/step - loss: 1.0122 - accuracy: 0.6500\n",
            "Epoch 37/100\n",
            "1/1 [==============================] - 0s 7ms/step - loss: 1.0090 - accuracy: 0.6500\n",
            "Epoch 38/100\n",
            "1/1 [==============================] - 0s 8ms/step - loss: 1.0059 - accuracy: 0.6500\n",
            "Epoch 39/100\n",
            "1/1 [==============================] - 0s 7ms/step - loss: 1.0027 - accuracy: 0.6500\n",
            "Epoch 40/100\n",
            "1/1 [==============================] - 0s 7ms/step - loss: 0.9997 - accuracy: 0.6500\n",
            "Epoch 41/100\n",
            "1/1 [==============================] - 0s 7ms/step - loss: 0.9966 - accuracy: 0.6500\n",
            "Epoch 42/100\n",
            "1/1 [==============================] - 0s 7ms/step - loss: 0.9936 - accuracy: 0.6500\n",
            "Epoch 43/100\n",
            "1/1 [==============================] - 0s 7ms/step - loss: 0.9906 - accuracy: 0.6500\n",
            "Epoch 44/100\n",
            "1/1 [==============================] - 0s 7ms/step - loss: 0.9876 - accuracy: 0.6500\n",
            "Epoch 45/100\n",
            "1/1 [==============================] - 0s 8ms/step - loss: 0.9846 - accuracy: 0.6500\n",
            "Epoch 46/100\n",
            "1/1 [==============================] - 0s 7ms/step - loss: 0.9817 - accuracy: 0.6500\n",
            "Epoch 47/100\n",
            "1/1 [==============================] - 0s 7ms/step - loss: 0.9787 - accuracy: 0.6500\n",
            "Epoch 48/100\n",
            "1/1 [==============================] - 0s 10ms/step - loss: 0.9758 - accuracy: 0.6500\n",
            "Epoch 49/100\n",
            "1/1 [==============================] - 0s 6ms/step - loss: 0.9729 - accuracy: 0.6500\n",
            "Epoch 50/100\n",
            "1/1 [==============================] - 0s 7ms/step - loss: 0.9701 - accuracy: 0.6500\n",
            "Epoch 51/100\n",
            "1/1 [==============================] - 0s 8ms/step - loss: 0.9672 - accuracy: 0.6500\n",
            "Epoch 52/100\n",
            "1/1 [==============================] - 0s 7ms/step - loss: 0.9643 - accuracy: 0.6500\n",
            "Epoch 53/100\n",
            "1/1 [==============================] - 0s 10ms/step - loss: 0.9615 - accuracy: 0.6000\n",
            "Epoch 54/100\n",
            "1/1 [==============================] - 0s 7ms/step - loss: 0.9587 - accuracy: 0.6000\n",
            "Epoch 55/100\n",
            "1/1 [==============================] - 0s 7ms/step - loss: 0.9559 - accuracy: 0.6000\n",
            "Epoch 56/100\n",
            "1/1 [==============================] - 0s 7ms/step - loss: 0.9531 - accuracy: 0.6500\n",
            "Epoch 57/100\n",
            "1/1 [==============================] - 0s 7ms/step - loss: 0.9504 - accuracy: 0.6500\n",
            "Epoch 58/100\n",
            "1/1 [==============================] - 0s 7ms/step - loss: 0.9477 - accuracy: 0.6500\n",
            "Epoch 59/100\n",
            "1/1 [==============================] - 0s 7ms/step - loss: 0.9450 - accuracy: 0.6500\n",
            "Epoch 60/100\n",
            "1/1 [==============================] - 0s 7ms/step - loss: 0.9423 - accuracy: 0.6500\n",
            "Epoch 61/100\n",
            "1/1 [==============================] - 0s 6ms/step - loss: 0.9397 - accuracy: 0.6500\n",
            "Epoch 62/100\n",
            "1/1 [==============================] - 0s 6ms/step - loss: 0.9371 - accuracy: 0.6500\n",
            "Epoch 63/100\n",
            "1/1 [==============================] - 0s 7ms/step - loss: 0.9345 - accuracy: 0.6500\n",
            "Epoch 64/100\n",
            "1/1 [==============================] - 0s 8ms/step - loss: 0.9319 - accuracy: 0.6500\n",
            "Epoch 65/100\n",
            "1/1 [==============================] - 0s 7ms/step - loss: 0.9293 - accuracy: 0.6500\n",
            "Epoch 66/100\n",
            "1/1 [==============================] - 0s 7ms/step - loss: 0.9267 - accuracy: 0.6500\n",
            "Epoch 67/100\n",
            "1/1 [==============================] - 0s 7ms/step - loss: 0.9242 - accuracy: 0.6500\n",
            "Epoch 68/100\n",
            "1/1 [==============================] - 0s 7ms/step - loss: 0.9216 - accuracy: 0.6500\n",
            "Epoch 69/100\n",
            "1/1 [==============================] - 0s 7ms/step - loss: 0.9191 - accuracy: 0.6500\n",
            "Epoch 70/100\n",
            "1/1 [==============================] - 0s 7ms/step - loss: 0.9166 - accuracy: 0.6500\n",
            "Epoch 71/100\n",
            "1/1 [==============================] - 0s 7ms/step - loss: 0.9142 - accuracy: 0.6500\n",
            "Epoch 72/100\n",
            "1/1 [==============================] - 0s 7ms/step - loss: 0.9117 - accuracy: 0.6500\n",
            "Epoch 73/100\n",
            "1/1 [==============================] - 0s 7ms/step - loss: 0.9092 - accuracy: 0.6500\n",
            "Epoch 74/100\n",
            "1/1 [==============================] - 0s 7ms/step - loss: 0.9067 - accuracy: 0.6500\n",
            "Epoch 75/100\n",
            "1/1 [==============================] - 0s 7ms/step - loss: 0.9043 - accuracy: 0.6500\n",
            "Epoch 76/100\n",
            "1/1 [==============================] - 0s 7ms/step - loss: 0.9018 - accuracy: 0.6500\n",
            "Epoch 77/100\n",
            "1/1 [==============================] - 0s 7ms/step - loss: 0.8994 - accuracy: 0.6500\n",
            "Epoch 78/100\n",
            "1/1 [==============================] - 0s 7ms/step - loss: 0.8970 - accuracy: 0.6500\n",
            "Epoch 79/100\n",
            "1/1 [==============================] - 0s 7ms/step - loss: 0.8945 - accuracy: 0.6500\n",
            "Epoch 80/100\n",
            "1/1 [==============================] - 0s 7ms/step - loss: 0.8922 - accuracy: 0.6500\n",
            "Epoch 81/100\n",
            "1/1 [==============================] - 0s 7ms/step - loss: 0.8897 - accuracy: 0.6500\n",
            "Epoch 82/100\n",
            "1/1 [==============================] - 0s 10ms/step - loss: 0.8874 - accuracy: 0.6500\n",
            "Epoch 83/100\n",
            "1/1 [==============================] - 0s 9ms/step - loss: 0.8850 - accuracy: 0.6500\n",
            "Epoch 84/100\n",
            "1/1 [==============================] - 0s 7ms/step - loss: 0.8827 - accuracy: 0.6500\n",
            "Epoch 85/100\n",
            "1/1 [==============================] - 0s 6ms/step - loss: 0.8804 - accuracy: 0.6500\n",
            "Epoch 86/100\n",
            "1/1 [==============================] - 0s 6ms/step - loss: 0.8781 - accuracy: 0.6500\n",
            "Epoch 87/100\n",
            "1/1 [==============================] - 0s 6ms/step - loss: 0.8758 - accuracy: 0.6500\n",
            "Epoch 88/100\n",
            "1/1 [==============================] - 0s 7ms/step - loss: 0.8736 - accuracy: 0.6500\n",
            "Epoch 89/100\n",
            "1/1 [==============================] - 0s 7ms/step - loss: 0.8713 - accuracy: 0.6500\n",
            "Epoch 90/100\n",
            "1/1 [==============================] - 0s 7ms/step - loss: 0.8691 - accuracy: 0.6500\n",
            "Epoch 91/100\n",
            "1/1 [==============================] - 0s 7ms/step - loss: 0.8669 - accuracy: 0.6500\n",
            "Epoch 92/100\n",
            "1/1 [==============================] - 0s 6ms/step - loss: 0.8646 - accuracy: 0.6500\n",
            "Epoch 93/100\n",
            "1/1 [==============================] - 0s 6ms/step - loss: 0.8624 - accuracy: 0.6500\n",
            "Epoch 94/100\n",
            "1/1 [==============================] - 0s 7ms/step - loss: 0.8602 - accuracy: 0.6500\n",
            "Epoch 95/100\n",
            "1/1 [==============================] - 0s 6ms/step - loss: 0.8581 - accuracy: 0.7000\n",
            "Epoch 96/100\n",
            "1/1 [==============================] - 0s 8ms/step - loss: 0.8560 - accuracy: 0.7000\n",
            "Epoch 97/100\n",
            "1/1 [==============================] - 0s 6ms/step - loss: 0.8538 - accuracy: 0.7000\n",
            "Epoch 98/100\n",
            "1/1 [==============================] - 0s 7ms/step - loss: 0.8517 - accuracy: 0.7000\n",
            "Epoch 99/100\n",
            "1/1 [==============================] - 0s 6ms/step - loss: 0.8495 - accuracy: 0.7000\n",
            "Epoch 100/100\n",
            "1/1 [==============================] - 0s 6ms/step - loss: 0.8474 - accuracy: 0.7000\n"
          ]
        },
        {
          "output_type": "execute_result",
          "data": {
            "text/plain": [
              "<keras.callbacks.History at 0x7f198082abd0>"
            ]
          },
          "metadata": {},
          "execution_count": 121
        }
      ]
    },
    {
      "cell_type": "code",
      "source": [
        "classANN.summary()"
      ],
      "metadata": {
        "colab": {
          "base_uri": "https://localhost:8080/"
        },
        "id": "1j_TDJH9NuwM",
        "outputId": "79da17b2-591c-46fc-d285-d81a856db008"
      },
      "execution_count": 122,
      "outputs": [
        {
          "output_type": "stream",
          "name": "stdout",
          "text": [
            "Model: \"sequential_13\"\n",
            "_________________________________________________________________\n",
            " Layer (type)                Output Shape              Param #   \n",
            "=================================================================\n",
            " dense_40 (Dense)            (None, 12)                84        \n",
            "                                                                 \n",
            " dense_41 (Dense)            (None, 12)                156       \n",
            "                                                                 \n",
            " dense_42 (Dense)            (None, 5)                 65        \n",
            "                                                                 \n",
            "=================================================================\n",
            "Total params: 305\n",
            "Trainable params: 305\n",
            "Non-trainable params: 0\n",
            "_________________________________________________________________\n"
          ]
        }
      ]
    },
    {
      "cell_type": "code",
      "source": [
        "loss, acc = classANN.evaluate(Xc_test, yc_test)\n",
        "print(f'Accuracy : {acc*100} %')"
      ],
      "metadata": {
        "colab": {
          "base_uri": "https://localhost:8080/"
        },
        "id": "T93dHM56fAwO",
        "outputId": "ab915fa8-239d-4210-ba7a-3a53becf073d"
      },
      "execution_count": 123,
      "outputs": [
        {
          "output_type": "stream",
          "name": "stdout",
          "text": [
            "1/1 [==============================] - 0s 18ms/step - loss: 0.9972 - accuracy: 0.8000\n",
            "Accuracy : 80.0000011920929 %\n"
          ]
        }
      ]
    },
    {
      "cell_type": "code",
      "source": [
        "# test_xc = sc.transform([[1.007, 2.42, 0.06, 0.73, 0.006, 0.57 ]]) # no fault\n",
        "# test_xc = sc.transform([[989.377, 43.95, 9.26, 258.987, 9.11, 201.5 ]]) # short circuit fault\n",
        "# test_xc = sc.transform([[961.167, 42.39, 9.07, 265.58, 8.5, 247.01 ]]) # degradation\n",
        "# test_xc = sc.transform([[990.15, 44.9, 0.1, 1.6, 9.1, 267.1 ]]) # open circuit fault\n",
        "#test_xc = sc.transform([[833.3, 40.5, 7.89, 269.7, 4.17, 316.9 ]]) # partial shadow\n",
        "#test_xc = sc.transform([[990,25,1.45,60,4,80]])\n",
        "test_xc = sc.transform([[990,25,3.15,68,8,70]])\n",
        "\n",
        "\n",
        "result_xc = classANN.predict(test_xc)\n",
        "n = 0\n",
        "temp=0.0\n",
        "for i in range(5) :\n",
        "  if(result_xc[0, i] >temp) :\n",
        "    temp = result_xc[0, i]\n",
        "    n=i\n",
        "\n",
        "print(faults[n])"
      ],
      "metadata": {
        "colab": {
          "base_uri": "https://localhost:8080/"
        },
        "id": "BmNzIAbqx3Tb",
        "outputId": "f885da0b-7466-4f62-f2bc-2c14311a7b9d"
      },
      "execution_count": 124,
      "outputs": [
        {
          "output_type": "stream",
          "name": "stdout",
          "text": [
            "1/1 [==============================] - 0s 51ms/step\n",
            "Open Circuit Fault\n"
          ]
        }
      ]
    }
  ]
}